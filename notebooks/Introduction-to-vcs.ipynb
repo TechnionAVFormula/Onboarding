{
 "cells": [
  {
   "cell_type": "markdown",
   "metadata": {},
   "source": [
    "# Notebook 3: Introduction to Version Control\n",
    "## I. Introduction"
   ]
  },
  {
   "cell_type": "code",
   "execution_count": 1,
   "metadata": {},
   "outputs": [],
   "source": []
  },
  {
   "cell_type": "markdown",
   "metadata": {},
   "source": [
    "### Objective: What the reader should expect to learn\n",
    "\n"
   ]
  },
  {
   "cell_type": "markdown",
   "metadata": {},
   "source": [
    "### What is Version Control?: Brief description"
   ]
  },
  {
   "cell_type": "markdown",
   "metadata": {},
   "source": [
    "\n",
    "<img src=\"https://imgs.xkcd.com/comics/git_2x.png\" width=300 />"
   ]
  },
  {
   "cell_type": "markdown",
   "metadata": {},
   "source": []
  },
  {
   "cell_type": "markdown",
   "metadata": {},
   "source": [
    "### Why is Version Control Important?: Explanation of benefits"
   ]
  },
  {
   "cell_type": "markdown",
   "metadata": {},
   "source": [
    "## II. Basic Git Commands\n",
    "### git init: How and why to initialize a new repository"
   ]
  },
  {
   "cell_type": "markdown",
   "metadata": {},
   "source": [
    "\n",
    "\n",
    "\n",
    "\n",
    "\n",
    "\n",
    "### git clone: Cloning an existing repository\n",
    "### git add: Staging changes for commit\n",
    "### git commit: Saving staged changes\n",
    "### git push: Updating remote repository\n",
    "### git pull: Fetching changes from remote repository\n",
    "### git status: Checking the status of changes\n",
    "### git log: Viewing commit history\n",
    "## III. Git Branching\n",
    "### Creating Branches: git branch and git checkout -b\n",
    "### Switching Between Branches: git checkout\n",
    "### Merging Branches: git merge\n",
    "## IV. GitFlow Conventions\n",
    "### Introduction to GitFlow: What it is and why it’s useful\n",
    "### Feature Branches: How and why to use them\n",
    "### Release Branches: Purpose and usage\n",
    "### Hotfix Branches: What they are for\n",
    "### Master and Develop Branches: Their roles in GitFlow\n",
    "## V. Exercise\n",
    "### Task 1: Initialize a Git repository\n",
    "### Task 2: Create and merge feature and release branches\n",
    "### Task 3: Simulate a hotfix\n",
    "## VI. Summary\n",
    "### Key Takeaways\n",
    "## Additional Resources: Links to further reading, video lectures, etc.\n",
    "\n"
   ]
  }
 ],
 "metadata": {
  "celltoolbar": "Attachments",
  "kernelspec": {
   "display_name": "Python 3 (ipykernel)",
   "language": "python",
   "name": "python3"
  },
  "language_info": {
   "codemirror_mode": {
    "name": "ipython",
    "version": 3
   },
   "file_extension": ".py",
   "mimetype": "text/x-python",
   "name": "python",
   "nbconvert_exporter": "python",
   "pygments_lexer": "ipython3",
   "version": "3.9.12"
  }
 },
 "nbformat": 4,
 "nbformat_minor": 2
}
